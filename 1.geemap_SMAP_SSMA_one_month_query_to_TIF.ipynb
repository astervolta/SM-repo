{
 "cells": [
  {
   "cell_type": "markdown",
   "id": "1e5d6337",
   "metadata": {},
   "source": [
    "# SURFACE SM ANOMALIES FROM SMAP"
   ]
  },
  {
   "cell_type": "markdown",
   "id": "793c104d",
   "metadata": {},
   "source": [
    "https://developers.google.com/earth-engine/datasets/catalog/NASA_USDA_HSL_SMAP10KM_soil_moisture"
   ]
  },
  {
   "cell_type": "markdown",
   "id": "0999f6ff",
   "metadata": {},
   "source": [
    "## PART I: QUERY DATA FROM GEE SERVER"
   ]
  },
  {
   "cell_type": "code",
   "execution_count": 1,
   "id": "e3edde51",
   "metadata": {},
   "outputs": [],
   "source": [
    "#installing dependencies\n",
    "import ee\n",
    "import geemap\n",
    "import os\n",
    "import numpy as np\n",
    "import matplotlib.pyplot as plt\n",
    "import pandas as pd\n",
    "import geopandas as gpd\n",
    "import seaborn as sns\n",
    "import matplotlib as mpl"
   ]
  },
  {
   "cell_type": "code",
   "execution_count": 2,
   "id": "67696669",
   "metadata": {},
   "outputs": [
    {
     "name": "stdout",
     "output_type": "stream",
     "text": [
      "destination_folder: D:\\Users\\aster\\Desktop\\dzud-types\\hoof-dzud\\SM\\SM-repo\n"
     ]
    }
   ],
   "source": [
    "#user select raw data destination folder\n",
    "destination_folder = input('destination_folder: ')"
   ]
  },
  {
   "cell_type": "code",
   "execution_count": 3,
   "id": "d5d95d93",
   "metadata": {},
   "outputs": [],
   "source": [
    "#plot wold map\n",
    "Map = geemap.Map()"
   ]
  },
  {
   "cell_type": "code",
   "execution_count": 4,
   "id": "1eb6c7ad",
   "metadata": {},
   "outputs": [
    {
     "data": {
      "application/vnd.jupyter.widget-view+json": {
       "model_id": "9dc95207d79749769716544297a6a4f2",
       "version_major": 2,
       "version_minor": 0
      },
      "text/plain": [
       "Map(center=[20, 0], controls=(WidgetControl(options=['position', 'transparent_bg'], widget=HBox(children=(Togg…"
      ]
     },
     "metadata": {},
     "output_type": "display_data"
    }
   ],
   "source": [
    "#upload shapefile of AOE\n",
    "prefectures_shp = '../SM-repo/prefectures-v3.shp'\n",
    "prefectures = geemap.shp_to_ee(prefectures_shp)\n",
    "Map.addLayer(prefectures, {}, 'prefectures')\n",
    "Map"
   ]
  },
  {
   "cell_type": "markdown",
   "id": "4d8d0359",
   "metadata": {},
   "source": [
    "### Input DATE, GEE Snippet and band. Can also modify data bounds and map colors. "
   ]
  },
  {
   "cell_type": "code",
   "execution_count": 10,
   "id": "6e4525bd",
   "metadata": {
    "scrolled": false
   },
   "outputs": [
    {
     "data": {
      "application/vnd.jupyter.widget-view+json": {
       "model_id": "9dc95207d79749769716544297a6a4f2",
       "version_major": 2,
       "version_minor": 0
      },
      "text/plain": [
       "Map(bottom=1741.0, center=[47, 106], controls=(WidgetControl(options=['position', 'transparent_bg'], widget=HB…"
      ]
     },
     "metadata": {},
     "output_type": "display_data"
    }
   ],
   "source": [
    "#user input start year \n",
    "#end year automatically set to most current data\n",
    "\n",
    "start_date = str('2021-02-01')\n",
    "end_date = str('2021-03-01')\n",
    "    \n",
    "dataset = ee.ImageCollection('NASA_USDA/HSL/SMAP10KM_soil_moisture')     .filterDate (start_date, end_date)     .map(lambda image: image.clip(prefectures)) \n",
    "soilMoisture = dataset.select('ssma')    \n",
    "soilMoistureVis = {\n",
    "    'min': -4,\n",
    "    'max': 4,\n",
    "    'palette': ['0300ff', '418504', 'efff07', 'efff07', 'ff0303']    }\n",
    "Map.setCenter(106, 47, 4)\n",
    "Map.addLayer(soilMoisture, soilMoistureVis, 'Soil Moisture')\n",
    "Map"
   ]
  },
  {
   "cell_type": "markdown",
   "id": "665e8eeb",
   "metadata": {},
   "source": [
    "### Monthly Mean. Input desired variables."
   ]
  },
  {
   "cell_type": "code",
   "execution_count": 11,
   "id": "3a39cc71",
   "metadata": {
    "scrolled": false
   },
   "outputs": [
    {
     "data": {
      "application/vnd.jupyter.widget-view+json": {
       "model_id": "9dc95207d79749769716544297a6a4f2",
       "version_major": 2,
       "version_minor": 0
      },
      "text/plain": [
       "Map(bottom=1741.0, center=[47, 106], controls=(WidgetControl(options=['position', 'transparent_bg'], widget=HB…"
      ]
     },
     "metadata": {},
     "output_type": "display_data"
    }
   ],
   "source": [
    "monthly_ssm = soilMoisture.reduce(ee.Reducer.mean())\n",
    "Map.addLayer(monthly_ssm, soilMoistureVis, 'monthly_ssma Mean')\n",
    "Map"
   ]
  },
  {
   "cell_type": "code",
   "execution_count": 12,
   "id": "fddbb68a",
   "metadata": {},
   "outputs": [
    {
     "data": {
      "text/plain": [
       "<ee.image.Image at 0x1b41ad60220>"
      ]
     },
     "execution_count": 12,
     "metadata": {},
     "output_type": "execute_result"
    }
   ],
   "source": [
    "monthly_ssm"
   ]
  },
  {
   "cell_type": "code",
   "execution_count": 13,
   "id": "1905b9f5",
   "metadata": {
    "scrolled": true
   },
   "outputs": [
    {
     "data": {
      "text/plain": [
       "{'type': 'Image',\n",
       " 'bands': [{'id': 'ssma_mean',\n",
       "   'data_type': {'type': 'PixelType', 'precision': 'float'},\n",
       "   'crs': 'EPSG:4326',\n",
       "   'crs_transform': [1, 0, 0, 0, 1, 0]}]}"
      ]
     },
     "execution_count": 13,
     "metadata": {},
     "output_type": "execute_result"
    }
   ],
   "source": [
    "monthly_ssm.getInfo()"
   ]
  },
  {
   "cell_type": "markdown",
   "id": "1560581c",
   "metadata": {},
   "source": [
    "### to TIF"
   ]
  },
  {
   "cell_type": "markdown",
   "id": "4ded0a26",
   "metadata": {},
   "source": [
    "##### Change file name:"
   ]
  },
  {
   "cell_type": "code",
   "execution_count": 14,
   "id": "e0fde1d8",
   "metadata": {
    "scrolled": true
   },
   "outputs": [
    {
     "name": "stdout",
     "output_type": "stream",
     "text": [
      "Generating URL ...\n",
      "Downloading data from https://earthengine.googleapis.com/v1alpha/projects/earthengine-legacy/thumbnails/acdcb296368d8d3a518ec71a22d53084-23ea5e19298d9a55e1e660f9a52aeebf:getPixels\n",
      "Please wait ...\n",
      "Data downloaded to D:\\Users\\aster\\Desktop\\dzud-types\\hoof-dzud\\SM\\SM-repo\\geemap_average_SMAP_SSMA_february2021.tif\n"
     ]
    }
   ],
   "source": [
    "feature = prefectures\n",
    "roi = feature.geometry()\n",
    "out_dir = os.path.join(os.path.expanduser('~'), destination_folder)\n",
    "filename = os.path.join(out_dir, 'geemap_average_SMAP_SSMA_february2021.tif')\n",
    "image = monthly_ssm\n",
    "geemap.ee_export_image(image, filename=filename, scale=1000, region=roi)"
   ]
  },
  {
   "cell_type": "markdown",
   "id": "51862ccd",
   "metadata": {},
   "source": [
    "### CONT. TO NOTEBOOK 2. TIF to CSV"
   ]
  },
  {
   "cell_type": "code",
   "execution_count": null,
   "id": "74f485b7",
   "metadata": {},
   "outputs": [],
   "source": []
  }
 ],
 "metadata": {
  "kernelspec": {
   "display_name": "Python 3 (ipykernel)",
   "language": "python",
   "name": "python3"
  },
  "language_info": {
   "codemirror_mode": {
    "name": "ipython",
    "version": 3
   },
   "file_extension": ".py",
   "mimetype": "text/x-python",
   "name": "python",
   "nbconvert_exporter": "python",
   "pygments_lexer": "ipython3",
   "version": "3.9.5"
  }
 },
 "nbformat": 4,
 "nbformat_minor": 5
}
