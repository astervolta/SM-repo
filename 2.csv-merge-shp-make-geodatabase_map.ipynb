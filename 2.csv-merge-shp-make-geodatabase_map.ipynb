{
 "cells": [
  {
   "cell_type": "code",
   "execution_count": 1,
   "id": "ef068669",
   "metadata": {},
   "outputs": [],
   "source": [
    "import numpy as np\n",
    "import pandas as pd\n",
    "import geopandas as gpd\n",
    "import seaborn as sns\n",
    "import matplotlib.pyplot as plt\n",
    "import matplotlib as mpl\n",
    "#import libpysal as ps"
   ]
  },
  {
   "cell_type": "code",
   "execution_count": 2,
   "id": "ba17ecaf",
   "metadata": {},
   "outputs": [],
   "source": [
    "sh = gpd.read_file(\"mongolia.prefectures.geojson\") "
   ]
  },
  {
   "cell_type": "code",
   "execution_count": 3,
   "id": "b4f60ec3",
   "metadata": {},
   "outputs": [],
   "source": [
    "tdata = pd.read_csv(\"LMR2021_table.csv\")"
   ]
  },
  {
   "cell_type": "code",
   "execution_count": 3,
   "id": "b2510556",
   "metadata": {
    "scrolled": true
   },
   "outputs": [
    {
     "data": {
      "text/plain": [
       "<AxesSubplot:>"
      ]
     },
     "execution_count": 3,
     "metadata": {},
     "output_type": "execute_result"
    },
    {
     "data": {
      "image/png": "[encoded data removed]",
      "text/plain": [
       "<Figure size 432x432 with 1 Axes>"
      ]
     },
     "metadata": {
      "needs_background": "light"
     },
     "output_type": "display_data"
    }
   ],
   "source": [
    "fig, ax = plt.subplots(figsize=(6,6))\n",
    "sh.plot(ax=ax, **{'edgecolor':'black', 'facecolor':'white'})"
   ]
  },
  {
   "cell_type": "code",
   "execution_count": 5,
   "id": "b4344c9e",
   "metadata": {
    "scrolled": true
   },
   "outputs": [
    {
     "data": {
      "text/plain": [
       "<bound method NDFrame.head of       prefecture  LMR 2021\n",
       "0      Arkhangai      0.03\n",
       "1   Bayankhongor      0.21\n",
       "2    Bayan-Ulgii      0.00\n",
       "3         Bulgan      0.01\n",
       "4    Darkhan-Uul      0.04\n",
       "5         Dornod      0.00\n",
       "6      Dornogovi      0.02\n",
       "7       Dundgovi      0.00\n",
       "8      GoviAltai      0.08\n",
       "9     Govisumber      0.44\n",
       "10       Khentii      0.05\n",
       "11         Khovd      0.01\n",
       "12      Khuvsgul      0.06\n",
       "13        Orkhon      0.49\n",
       "14       Selenge      0.27\n",
       "15    Sukhbaatar      0.01\n",
       "16           Tuv      0.03\n",
       "17   Ulaanbaatar      0.03\n",
       "18      Umnugovi      0.01\n",
       "19           uvs      0.00\n",
       "20   Uvurkhangai      0.00\n",
       "21       Zavkhan      0.01>"
      ]
     },
     "execution_count": 5,
     "metadata": {},
     "output_type": "execute_result"
    }
   ],
   "source": [
    "tdata.head"
   ]
  },
  {
   "cell_type": "code",
   "execution_count": 4,
   "id": "94cf9150",
   "metadata": {},
   "outputs": [
    {
     "data": {
      "text/plain": [
       "<bound method NDFrame.head of       prefecture                                           geometry\n",
       "0      Arkhangai  POLYGON ((98.41651 47.61481, 98.32489 47.63023...\n",
       "1    Bagakhangai  POLYGON ((107.55959 47.35278, 107.54311 47.326...\n",
       "2       Baganuur  POLYGON ((108.35266 47.56355, 108.30185 47.572...\n",
       "3   Bayankhongor  POLYGON ((97.56769 46.59744, 97.63824 46.67206...\n",
       "4    Bayan-Ulgii  POLYGON ((91.04844 46.71985, 91.04839 46.71987...\n",
       "5         Bulgan  POLYGON ((101.66581 48.96275, 101.63246 49.063...\n",
       "6    Darkhan-Uul  POLYGON ((106.13892 49.81849, 106.13892 49.733...\n",
       "7         Dornod  POLYGON ((112.69432 47.79378, 112.60986 47.929...\n",
       "8      Dornogovi  POLYGON ((108.55900 45.94112, 108.56827 45.958...\n",
       "9       Dundgovi  POLYGON ((103.78235 45.16897, 103.78235 45.274...\n",
       "10     GoviAltai  POLYGON ((93.21741 44.99687, 93.21196 45.00499...\n",
       "11    Govisumber  POLYGON ((107.95681 46.77467, 108.00316 46.793...\n",
       "12       Khentii  POLYGON ((108.52140 49.12411, 108.53394 49.224...\n",
       "13         Khovd  POLYGON ((91.04844 46.71985, 91.05353 46.72315...\n",
       "14      Khuvsgul  POLYGON ((99.07428 48.29627, 99.09668 48.35990...\n",
       "15        Orkhon  POLYGON ((104.37801 48.89926, 104.34677 48.908...\n",
       "16       Selenge  POLYGON ((104.51912 49.10602, 104.53629 49.152...\n",
       "17    Sukhbaatar  POLYGON ((111.16688 46.23139, 111.22009 46.324...\n",
       "18           Tuv  POLYGON ((104.14764 47.29809, 104.16962 47.329...\n",
       "19   Ulaanbaatar  POLYGON ((106.35590 48.25851, 106.58524 48.228...\n",
       "20      Umnugovi  POLYGON ((99.59688 42.57930, 99.59656 42.73289...\n",
       "21           uvs  POLYGON ((90.02523 50.00028, 90.02523 50.00029...\n",
       "22   Uvurkhangai  POLYGON ((101.28850 46.82620, 101.41342 46.847...\n",
       "23       Zavkhan  POLYGON ((93.42950 48.42429, 93.45108 48.44924...>"
      ]
     },
     "execution_count": 4,
     "metadata": {},
     "output_type": "execute_result"
    }
   ],
   "source": [
    "sh.head"
   ]
  },
  {
   "cell_type": "code",
   "execution_count": 5,
   "id": "2cbd83d7",
   "metadata": {},
   "outputs": [
    {
     "data": {
      "text/plain": [
       "<bound method NDFrame.head of       prefecture                                           geometry\n",
       "0      Arkhangai  POLYGON ((98.41651 47.61481, 98.32489 47.63023...\n",
       "1    Bagakhangai  POLYGON ((107.55959 47.35278, 107.54311 47.326...\n",
       "3   Bayankhongor  POLYGON ((97.56769 46.59744, 97.63824 46.67206...\n",
       "4    Bayan-Ulgii  POLYGON ((91.04844 46.71985, 91.04839 46.71987...\n",
       "5         Bulgan  POLYGON ((101.66581 48.96275, 101.63246 49.063...\n",
       "6    Darkhan-Uul  POLYGON ((106.13892 49.81849, 106.13892 49.733...\n",
       "7         Dornod  POLYGON ((112.69432 47.79378, 112.60986 47.929...\n",
       "8      Dornogovi  POLYGON ((108.55900 45.94112, 108.56827 45.958...\n",
       "9       Dundgovi  POLYGON ((103.78235 45.16897, 103.78235 45.274...\n",
       "10     GoviAltai  POLYGON ((93.21741 44.99687, 93.21196 45.00499...\n",
       "11    Govisumber  POLYGON ((107.95681 46.77467, 108.00316 46.793...\n",
       "12       Khentii  POLYGON ((108.52140 49.12411, 108.53394 49.224...\n",
       "13         Khovd  POLYGON ((91.04844 46.71985, 91.05353 46.72315...\n",
       "14      Khuvsgul  POLYGON ((99.07428 48.29627, 99.09668 48.35990...\n",
       "15        Orkhon  POLYGON ((104.37801 48.89926, 104.34677 48.908...\n",
       "16       Selenge  POLYGON ((104.51912 49.10602, 104.53629 49.152...\n",
       "17    Sukhbaatar  POLYGON ((111.16688 46.23139, 111.22009 46.324...\n",
       "18           Tuv  POLYGON ((104.14764 47.29809, 104.16962 47.329...\n",
       "19   Ulaanbaatar  POLYGON ((106.35590 48.25851, 106.58524 48.228...\n",
       "20      Umnugovi  POLYGON ((99.59688 42.57930, 99.59656 42.73289...\n",
       "21           uvs  POLYGON ((90.02523 50.00028, 90.02523 50.00029...\n",
       "22   Uvurkhangai  POLYGON ((101.28850 46.82620, 101.41342 46.847...\n",
       "23       Zavkhan  POLYGON ((93.42950 48.42429, 93.45108 48.44924...>"
      ]
     },
     "execution_count": 5,
     "metadata": {},
     "output_type": "execute_result"
    }
   ],
   "source": [
    "sh = sh.drop(labels=2, axis=0)\n",
    "sh.head"
   ]
  },
  {
   "cell_type": "code",
   "execution_count": 8,
   "id": "64d2736e",
   "metadata": {
    "scrolled": false
   },
   "outputs": [
    {
     "data": {
      "text/html": [
       "<div>\n",
       "<style scoped>\n",
       "    .dataframe tbody tr th:only-of-type {\n",
       "        vertical-align: middle;\n",
       "    }\n",
       "\n",
       "    .dataframe tbody tr th {\n",
       "        vertical-align: top;\n",
       "    }\n",
       "\n",
       "    .dataframe thead th {\n",
       "        text-align: right;\n",
       "    }\n",
       "</style>\n",
       "<table border=\"1\" class=\"dataframe\">\n",
       "  <thead>\n",
       "    <tr style=\"text-align: right;\">\n",
       "      <th></th>\n",
       "      <th>prefecture</th>\n",
       "      <th>LMR 2021</th>\n",
       "      <th>geometry</th>\n",
       "    </tr>\n",
       "  </thead>\n",
       "  <tbody>\n",
       "    <tr>\n",
       "      <th>0</th>\n",
       "      <td>Arkhangai</td>\n",
       "      <td>0.03</td>\n",
       "      <td>POLYGON ((98.41651 47.61481, 98.32489 47.63023...</td>\n",
       "    </tr>\n",
       "    <tr>\n",
       "      <th>1</th>\n",
       "      <td>Bayankhongor</td>\n",
       "      <td>0.21</td>\n",
       "      <td>POLYGON ((97.56769 46.59744, 97.63824 46.67206...</td>\n",
       "    </tr>\n",
       "    <tr>\n",
       "      <th>2</th>\n",
       "      <td>Bayan-Ulgii</td>\n",
       "      <td>0.00</td>\n",
       "      <td>POLYGON ((91.04844 46.71985, 91.04839 46.71987...</td>\n",
       "    </tr>\n",
       "    <tr>\n",
       "      <th>3</th>\n",
       "      <td>Bulgan</td>\n",
       "      <td>0.01</td>\n",
       "      <td>POLYGON ((101.66581 48.96275, 101.63246 49.063...</td>\n",
       "    </tr>\n",
       "    <tr>\n",
       "      <th>4</th>\n",
       "      <td>Darkhan-Uul</td>\n",
       "      <td>0.04</td>\n",
       "      <td>POLYGON ((106.13892 49.81849, 106.13892 49.733...</td>\n",
       "    </tr>\n",
       "    <tr>\n",
       "      <th>5</th>\n",
       "      <td>Dornod</td>\n",
       "      <td>0.00</td>\n",
       "      <td>POLYGON ((112.69432 47.79378, 112.60986 47.929...</td>\n",
       "    </tr>\n",
       "    <tr>\n",
       "      <th>6</th>\n",
       "      <td>Dornogovi</td>\n",
       "      <td>0.02</td>\n",
       "      <td>POLYGON ((108.55900 45.94112, 108.56827 45.958...</td>\n",
       "    </tr>\n",
       "    <tr>\n",
       "      <th>7</th>\n",
       "      <td>Dundgovi</td>\n",
       "      <td>0.00</td>\n",
       "      <td>POLYGON ((103.78235 45.16897, 103.78235 45.274...</td>\n",
       "    </tr>\n",
       "    <tr>\n",
       "      <th>8</th>\n",
       "      <td>GoviAltai</td>\n",
       "      <td>0.08</td>\n",
       "      <td>POLYGON ((93.21741 44.99687, 93.21196 45.00499...</td>\n",
       "    </tr>\n",
       "    <tr>\n",
       "      <th>9</th>\n",
       "      <td>Govisumber</td>\n",
       "      <td>0.44</td>\n",
       "      <td>POLYGON ((107.95681 46.77467, 108.00316 46.793...</td>\n",
       "    </tr>\n",
       "    <tr>\n",
       "      <th>10</th>\n",
       "      <td>Khentii</td>\n",
       "      <td>0.05</td>\n",
       "      <td>POLYGON ((108.52140 49.12411, 108.53394 49.224...</td>\n",
       "    </tr>\n",
       "    <tr>\n",
       "      <th>11</th>\n",
       "      <td>Khovd</td>\n",
       "      <td>0.01</td>\n",
       "      <td>POLYGON ((91.04844 46.71985, 91.05353 46.72315...</td>\n",
       "    </tr>\n",
       "    <tr>\n",
       "      <th>12</th>\n",
       "      <td>Khuvsgul</td>\n",
       "      <td>0.06</td>\n",
       "      <td>POLYGON ((99.07428 48.29627, 99.09668 48.35990...</td>\n",
       "    </tr>\n",
       "    <tr>\n",
       "      <th>13</th>\n",
       "      <td>Orkhon</td>\n",
       "      <td>0.49</td>\n",
       "      <td>POLYGON ((104.37801 48.89926, 104.34677 48.908...</td>\n",
       "    </tr>\n",
       "    <tr>\n",
       "      <th>14</th>\n",
       "      <td>Selenge</td>\n",
       "      <td>0.27</td>\n",
       "      <td>POLYGON ((104.51912 49.10602, 104.53629 49.152...</td>\n",
       "    </tr>\n",
       "    <tr>\n",
       "      <th>15</th>\n",
       "      <td>Sukhbaatar</td>\n",
       "      <td>0.01</td>\n",
       "      <td>POLYGON ((111.16688 46.23139, 111.22009 46.324...</td>\n",
       "    </tr>\n",
       "    <tr>\n",
       "      <th>16</th>\n",
       "      <td>Tuv</td>\n",
       "      <td>0.03</td>\n",
       "      <td>POLYGON ((104.14764 47.29809, 104.16962 47.329...</td>\n",
       "    </tr>\n",
       "    <tr>\n",
       "      <th>17</th>\n",
       "      <td>Ulaanbaatar</td>\n",
       "      <td>0.03</td>\n",
       "      <td>POLYGON ((106.35590 48.25851, 106.58524 48.228...</td>\n",
       "    </tr>\n",
       "    <tr>\n",
       "      <th>18</th>\n",
       "      <td>Umnugovi</td>\n",
       "      <td>0.01</td>\n",
       "      <td>POLYGON ((99.59688 42.57930, 99.59656 42.73289...</td>\n",
       "    </tr>\n",
       "    <tr>\n",
       "      <th>19</th>\n",
       "      <td>uvs</td>\n",
       "      <td>0.00</td>\n",
       "      <td>POLYGON ((90.02523 50.00028, 90.02523 50.00029...</td>\n",
       "    </tr>\n",
       "    <tr>\n",
       "      <th>20</th>\n",
       "      <td>Uvurkhangai</td>\n",
       "      <td>0.00</td>\n",
       "      <td>POLYGON ((101.28850 46.82620, 101.41342 46.847...</td>\n",
       "    </tr>\n",
       "    <tr>\n",
       "      <th>21</th>\n",
       "      <td>Zavkhan</td>\n",
       "      <td>0.01</td>\n",
       "      <td>POLYGON ((93.42950 48.42429, 93.45108 48.44924...</td>\n",
       "    </tr>\n",
       "  </tbody>\n",
       "</table>\n",
       "</div>"
      ],
      "text/plain": [
       "      prefecture  LMR 2021                                           geometry\n",
       "0      Arkhangai      0.03  POLYGON ((98.41651 47.61481, 98.32489 47.63023...\n",
       "1   Bayankhongor      0.21  POLYGON ((97.56769 46.59744, 97.63824 46.67206...\n",
       "2    Bayan-Ulgii      0.00  POLYGON ((91.04844 46.71985, 91.04839 46.71987...\n",
       "3         Bulgan      0.01  POLYGON ((101.66581 48.96275, 101.63246 49.063...\n",
       "4    Darkhan-Uul      0.04  POLYGON ((106.13892 49.81849, 106.13892 49.733...\n",
       "5         Dornod      0.00  POLYGON ((112.69432 47.79378, 112.60986 47.929...\n",
       "6      Dornogovi      0.02  POLYGON ((108.55900 45.94112, 108.56827 45.958...\n",
       "7       Dundgovi      0.00  POLYGON ((103.78235 45.16897, 103.78235 45.274...\n",
       "8      GoviAltai      0.08  POLYGON ((93.21741 44.99687, 93.21196 45.00499...\n",
       "9     Govisumber      0.44  POLYGON ((107.95681 46.77467, 108.00316 46.793...\n",
       "10       Khentii      0.05  POLYGON ((108.52140 49.12411, 108.53394 49.224...\n",
       "11         Khovd      0.01  POLYGON ((91.04844 46.71985, 91.05353 46.72315...\n",
       "12      Khuvsgul      0.06  POLYGON ((99.07428 48.29627, 99.09668 48.35990...\n",
       "13        Orkhon      0.49  POLYGON ((104.37801 48.89926, 104.34677 48.908...\n",
       "14       Selenge      0.27  POLYGON ((104.51912 49.10602, 104.53629 49.152...\n",
       "15    Sukhbaatar      0.01  POLYGON ((111.16688 46.23139, 111.22009 46.324...\n",
       "16           Tuv      0.03  POLYGON ((104.14764 47.29809, 104.16962 47.329...\n",
       "17   Ulaanbaatar      0.03  POLYGON ((106.35590 48.25851, 106.58524 48.228...\n",
       "18      Umnugovi      0.01  POLYGON ((99.59688 42.57930, 99.59656 42.73289...\n",
       "19           uvs      0.00  POLYGON ((90.02523 50.00028, 90.02523 50.00029...\n",
       "20   Uvurkhangai      0.00  POLYGON ((101.28850 46.82620, 101.41342 46.847...\n",
       "21       Zavkhan      0.01  POLYGON ((93.42950 48.42429, 93.45108 48.44924..."
      ]
     },
     "execution_count": 8,
     "metadata": {},
     "output_type": "execute_result"
    }
   ],
   "source": [
    "df  = tdata.merge(sh, on='prefecture', how='left')\n",
    "df"
   ]
  },
  {
   "cell_type": "code",
   "execution_count": 9,
   "id": "82ba8c0b",
   "metadata": {},
   "outputs": [
    {
     "data": {
      "text/html": [
       "<div>\n",
       "<style scoped>\n",
       "    .dataframe tbody tr th:only-of-type {\n",
       "        vertical-align: middle;\n",
       "    }\n",
       "\n",
       "    .dataframe tbody tr th {\n",
       "        vertical-align: top;\n",
       "    }\n",
       "\n",
       "    .dataframe thead th {\n",
       "        text-align: right;\n",
       "    }\n",
       "</style>\n",
       "<table border=\"1\" class=\"dataframe\">\n",
       "  <thead>\n",
       "    <tr style=\"text-align: right;\">\n",
       "      <th></th>\n",
       "      <th>prefecture</th>\n",
       "      <th>LMR 2021</th>\n",
       "      <th>geometry</th>\n",
       "    </tr>\n",
       "  </thead>\n",
       "  <tbody>\n",
       "    <tr>\n",
       "      <th>0</th>\n",
       "      <td>Arkhangai</td>\n",
       "      <td>0.03</td>\n",
       "      <td>POLYGON ((98.41651 47.61481, 98.32489 47.63023...</td>\n",
       "    </tr>\n",
       "    <tr>\n",
       "      <th>1</th>\n",
       "      <td>Bayankhongor</td>\n",
       "      <td>0.21</td>\n",
       "      <td>POLYGON ((97.56769 46.59744, 97.63824 46.67206...</td>\n",
       "    </tr>\n",
       "    <tr>\n",
       "      <th>2</th>\n",
       "      <td>Bayan-Ulgii</td>\n",
       "      <td>0.00</td>\n",
       "      <td>POLYGON ((91.04844 46.71985, 91.04839 46.71987...</td>\n",
       "    </tr>\n",
       "    <tr>\n",
       "      <th>3</th>\n",
       "      <td>Bulgan</td>\n",
       "      <td>0.01</td>\n",
       "      <td>POLYGON ((101.66581 48.96275, 101.63246 49.063...</td>\n",
       "    </tr>\n",
       "    <tr>\n",
       "      <th>4</th>\n",
       "      <td>Darkhan-Uul</td>\n",
       "      <td>0.04</td>\n",
       "      <td>POLYGON ((106.13892 49.81849, 106.13892 49.733...</td>\n",
       "    </tr>\n",
       "    <tr>\n",
       "      <th>5</th>\n",
       "      <td>Dornod</td>\n",
       "      <td>0.00</td>\n",
       "      <td>POLYGON ((112.69432 47.79378, 112.60986 47.929...</td>\n",
       "    </tr>\n",
       "    <tr>\n",
       "      <th>6</th>\n",
       "      <td>Dornogovi</td>\n",
       "      <td>0.02</td>\n",
       "      <td>POLYGON ((108.55900 45.94112, 108.56827 45.958...</td>\n",
       "    </tr>\n",
       "    <tr>\n",
       "      <th>7</th>\n",
       "      <td>Dundgovi</td>\n",
       "      <td>0.00</td>\n",
       "      <td>POLYGON ((103.78235 45.16897, 103.78235 45.274...</td>\n",
       "    </tr>\n",
       "    <tr>\n",
       "      <th>8</th>\n",
       "      <td>GoviAltai</td>\n",
       "      <td>0.08</td>\n",
       "      <td>POLYGON ((93.21741 44.99687, 93.21196 45.00499...</td>\n",
       "    </tr>\n",
       "    <tr>\n",
       "      <th>9</th>\n",
       "      <td>Govisumber</td>\n",
       "      <td>0.44</td>\n",
       "      <td>POLYGON ((107.95681 46.77467, 108.00316 46.793...</td>\n",
       "    </tr>\n",
       "    <tr>\n",
       "      <th>10</th>\n",
       "      <td>Khentii</td>\n",
       "      <td>0.05</td>\n",
       "      <td>POLYGON ((108.52140 49.12411, 108.53394 49.224...</td>\n",
       "    </tr>\n",
       "    <tr>\n",
       "      <th>11</th>\n",
       "      <td>Khovd</td>\n",
       "      <td>0.01</td>\n",
       "      <td>POLYGON ((91.04844 46.71985, 91.05353 46.72315...</td>\n",
       "    </tr>\n",
       "    <tr>\n",
       "      <th>12</th>\n",
       "      <td>Khuvsgul</td>\n",
       "      <td>0.06</td>\n",
       "      <td>POLYGON ((99.07428 48.29627, 99.09668 48.35990...</td>\n",
       "    </tr>\n",
       "    <tr>\n",
       "      <th>13</th>\n",
       "      <td>Orkhon</td>\n",
       "      <td>0.49</td>\n",
       "      <td>POLYGON ((104.37801 48.89926, 104.34677 48.908...</td>\n",
       "    </tr>\n",
       "    <tr>\n",
       "      <th>14</th>\n",
       "      <td>Selenge</td>\n",
       "      <td>0.27</td>\n",
       "      <td>POLYGON ((104.51912 49.10602, 104.53629 49.152...</td>\n",
       "    </tr>\n",
       "    <tr>\n",
       "      <th>15</th>\n",
       "      <td>Sukhbaatar</td>\n",
       "      <td>0.01</td>\n",
       "      <td>POLYGON ((111.16688 46.23139, 111.22009 46.324...</td>\n",
       "    </tr>\n",
       "    <tr>\n",
       "      <th>16</th>\n",
       "      <td>Tuv</td>\n",
       "      <td>0.03</td>\n",
       "      <td>POLYGON ((104.14764 47.29809, 104.16962 47.329...</td>\n",
       "    </tr>\n",
       "    <tr>\n",
       "      <th>17</th>\n",
       "      <td>Ulaanbaatar</td>\n",
       "      <td>0.03</td>\n",
       "      <td>POLYGON ((106.35590 48.25851, 106.58524 48.228...</td>\n",
       "    </tr>\n",
       "    <tr>\n",
       "      <th>18</th>\n",
       "      <td>Umnugovi</td>\n",
       "      <td>0.01</td>\n",
       "      <td>POLYGON ((99.59688 42.57930, 99.59656 42.73289...</td>\n",
       "    </tr>\n",
       "    <tr>\n",
       "      <th>19</th>\n",
       "      <td>uvs</td>\n",
       "      <td>0.00</td>\n",
       "      <td>POLYGON ((90.02523 50.00028, 90.02523 50.00029...</td>\n",
       "    </tr>\n",
       "    <tr>\n",
       "      <th>20</th>\n",
       "      <td>Uvurkhangai</td>\n",
       "      <td>0.00</td>\n",
       "      <td>POLYGON ((101.28850 46.82620, 101.41342 46.847...</td>\n",
       "    </tr>\n",
       "    <tr>\n",
       "      <th>21</th>\n",
       "      <td>Zavkhan</td>\n",
       "      <td>0.01</td>\n",
       "      <td>POLYGON ((93.42950 48.42429, 93.45108 48.44924...</td>\n",
       "    </tr>\n",
       "  </tbody>\n",
       "</table>\n",
       "</div>"
      ],
      "text/plain": [
       "      prefecture  LMR 2021                                           geometry\n",
       "0      Arkhangai      0.03  POLYGON ((98.41651 47.61481, 98.32489 47.63023...\n",
       "1   Bayankhongor      0.21  POLYGON ((97.56769 46.59744, 97.63824 46.67206...\n",
       "2    Bayan-Ulgii      0.00  POLYGON ((91.04844 46.71985, 91.04839 46.71987...\n",
       "3         Bulgan      0.01  POLYGON ((101.66581 48.96275, 101.63246 49.063...\n",
       "4    Darkhan-Uul      0.04  POLYGON ((106.13892 49.81849, 106.13892 49.733...\n",
       "5         Dornod      0.00  POLYGON ((112.69432 47.79378, 112.60986 47.929...\n",
       "6      Dornogovi      0.02  POLYGON ((108.55900 45.94112, 108.56827 45.958...\n",
       "7       Dundgovi      0.00  POLYGON ((103.78235 45.16897, 103.78235 45.274...\n",
       "8      GoviAltai      0.08  POLYGON ((93.21741 44.99687, 93.21196 45.00499...\n",
       "9     Govisumber      0.44  POLYGON ((107.95681 46.77467, 108.00316 46.793...\n",
       "10       Khentii      0.05  POLYGON ((108.52140 49.12411, 108.53394 49.224...\n",
       "11         Khovd      0.01  POLYGON ((91.04844 46.71985, 91.05353 46.72315...\n",
       "12      Khuvsgul      0.06  POLYGON ((99.07428 48.29627, 99.09668 48.35990...\n",
       "13        Orkhon      0.49  POLYGON ((104.37801 48.89926, 104.34677 48.908...\n",
       "14       Selenge      0.27  POLYGON ((104.51912 49.10602, 104.53629 49.152...\n",
       "15    Sukhbaatar      0.01  POLYGON ((111.16688 46.23139, 111.22009 46.324...\n",
       "16           Tuv      0.03  POLYGON ((104.14764 47.29809, 104.16962 47.329...\n",
       "17   Ulaanbaatar      0.03  POLYGON ((106.35590 48.25851, 106.58524 48.228...\n",
       "18      Umnugovi      0.01  POLYGON ((99.59688 42.57930, 99.59656 42.73289...\n",
       "19           uvs      0.00  POLYGON ((90.02523 50.00028, 90.02523 50.00029...\n",
       "20   Uvurkhangai      0.00  POLYGON ((101.28850 46.82620, 101.41342 46.847...\n",
       "21       Zavkhan      0.01  POLYGON ((93.42950 48.42429, 93.45108 48.44924..."
      ]
     },
     "execution_count": 9,
     "metadata": {},
     "output_type": "execute_result"
    }
   ],
   "source": [
    "df = gpd.GeoDataFrame(df, geometry='geometry', crs=\"EPSG:4326\")\n",
    "df"
   ]
  },
  {
   "cell_type": "code",
   "execution_count": 10,
   "id": "4a95e7f5",
   "metadata": {
    "scrolled": false
   },
   "outputs": [
    {
     "data": {
      "text/plain": [
       "<AxesSubplot:>"
      ]
     },
     "execution_count": 10,
     "metadata": {},
     "output_type": "execute_result"
    },
    {
     "data": {
      "image/png": "[encoded data removed]",
      "text/plain": [
       "<Figure size 1008x504 with 2 Axes>"
      ]
     },
     "metadata": {
      "needs_background": "light"
     },
     "output_type": "display_data"
    }
   ],
   "source": [
    "fig, ax = plt.subplots(figsize=(14,7))\n",
    "df.plot('LMR 2021', ax=ax, cmap='Oranges',\n",
    "        legend=True,\n",
    "        legend_kwds={'label': \"Livestock Mortality Rate 2021\"})"
   ]
  },
  {
   "cell_type": "code",
   "execution_count": 11,
   "id": "3ae4338a",
   "metadata": {},
   "outputs": [],
   "source": [
    "df = gpd.GeoDataFrame(df, geometry='geometry')"
   ]
  },
  {
   "cell_type": "code",
   "execution_count": 12,
   "id": "fbf27cf7",
   "metadata": {},
   "outputs": [
    {
     "name": "stderr",
     "output_type": "stream",
     "text": [
      "D:\\Users\\aster\\miniconda3\\lib\\site-packages\\geopandas\\io\\file.py:362: FutureWarning: pandas.Int64Index is deprecated and will be removed from pandas in a future version. Use pandas.Index with the appropriate dtype instead.\n",
      "  pd.Int64Index,\n"
     ]
    }
   ],
   "source": [
    "df.to_file(\"LMR2021.gpkg\", driver=\"GPKG\")"
   ]
  },
  {
   "cell_type": "code",
   "execution_count": 13,
   "id": "3ee59077",
   "metadata": {},
   "outputs": [
    {
     "name": "stderr",
     "output_type": "stream",
     "text": [
      "D:\\Users\\aster\\miniconda3\\lib\\site-packages\\geopandas\\io\\file.py:362: FutureWarning: pandas.Int64Index is deprecated and will be removed from pandas in a future version. Use pandas.Index with the appropriate dtype instead.\n",
      "  pd.Int64Index,\n"
     ]
    }
   ],
   "source": [
    "df.to_file(\"LMR2021.geojson\", driver='GeoJSON')"
   ]
  },
  {
   "cell_type": "code",
   "execution_count": 15,
   "id": "2e4b509c",
   "metadata": {},
   "outputs": [
    {
     "name": "stderr",
     "output_type": "stream",
     "text": [
      "D:\\Users\\aster\\miniconda3\\lib\\site-packages\\geopandas\\io\\file.py:362: FutureWarning: pandas.Int64Index is deprecated and will be removed from pandas in a future version. Use pandas.Index with the appropriate dtype instead.\n",
      "  pd.Int64Index,\n"
     ]
    }
   ],
   "source": [
    "df.to_file(\"LMR2021.shp\")"
   ]
  },
  {
   "cell_type": "markdown",
   "id": "6d910a82",
   "metadata": {},
   "source": [
    "---"
   ]
  },
  {
   "cell_type": "markdown",
   "id": "98dd0279",
   "metadata": {},
   "source": [
    "##### Read in geodata"
   ]
  },
  {
   "cell_type": "code",
   "execution_count": 20,
   "id": "a93c0f4c",
   "metadata": {},
   "outputs": [],
   "source": [
    "shp = gpd.read_file(\"LMR2021.shp\") "
   ]
  },
  {
   "cell_type": "code",
   "execution_count": 21,
   "id": "29aa0d73",
   "metadata": {
    "scrolled": true
   },
   "outputs": [
    {
     "data": {
      "text/plain": [
       "<AxesSubplot:>"
      ]
     },
     "execution_count": 21,
     "metadata": {},
     "output_type": "execute_result"
    },
    {
     "data": {
      "image/png": "[encoded data removed]",
      "text/plain": [
       "<Figure size 432x432 with 1 Axes>"
      ]
     },
     "metadata": {
      "needs_background": "light"
     },
     "output_type": "display_data"
    }
   ],
   "source": [
    "fig, ax = plt.subplots(figsize=(6,6))\n",
    "shp.plot('LMR 2021', ax=ax)"
   ]
  },
  {
   "cell_type": "code",
   "execution_count": null,
   "id": "177c5ac7",
   "metadata": {},
   "outputs": [],
   "source": []
  },
  {
   "cell_type": "markdown",
   "id": "97a02033",
   "metadata": {},
   "source": [
    "##### make new aimag shp"
   ]
  },
  {
   "cell_type": "code",
   "execution_count": 6,
   "id": "6bd5c403",
   "metadata": {},
   "outputs": [],
   "source": [
    "df = gpd.GeoDataFrame(sh, geometry='geometry')"
   ]
  },
  {
   "cell_type": "code",
   "execution_count": 7,
   "id": "1c494d5b",
   "metadata": {
    "scrolled": true
   },
   "outputs": [
    {
     "name": "stderr",
     "output_type": "stream",
     "text": [
      "D:\\Users\\aster\\miniconda3\\envs\\gee\\lib\\site-packages\\geopandas\\io\\file.py:299: FutureWarning: pandas.Int64Index is deprecated and will be removed from pandas in a future version. Use pandas.Index with the appropriate dtype instead.\n",
      "  pd.Int64Index,\n"
     ]
    }
   ],
   "source": [
    "df.to_file(\"prefectures.shp\")"
   ]
  },
  {
   "cell_type": "markdown",
   "id": "f6e65ea0",
   "metadata": {},
   "source": [
    "---"
   ]
  },
  {
   "cell_type": "code",
   "execution_count": 8,
   "id": "7695bca0",
   "metadata": {},
   "outputs": [
    {
     "data": {
      "text/plain": [
       "<AxesSubplot:>"
      ]
     },
     "execution_count": 8,
     "metadata": {},
     "output_type": "execute_result"
    },
    {
     "data": {
      "image/png": "[encoded data removed]",
      "text/plain": [
       "<Figure size 432x432 with 1 Axes>"
      ]
     },
     "metadata": {
      "needs_background": "light"
     },
     "output_type": "display_data"
    }
   ],
   "source": [
    "shp = gpd.read_file(\"prefectures.shp\") \n",
    "fig, ax = plt.subplots(figsize=(6,6))\n",
    "shp.plot(ax=ax)"
   ]
  },
  {
   "cell_type": "code",
   "execution_count": null,
   "id": "27780366",
   "metadata": {},
   "outputs": [],
   "source": []
  }
 ],
 "metadata": {
  "kernelspec": {
   "display_name": "Python 3 (ipykernel)",
   "language": "python",
   "name": "python3"
  },
  "language_info": {
   "codemirror_mode": {
    "name": "ipython",
    "version": 3
   },
   "file_extension": ".py",
   "mimetype": "text/x-python",
   "name": "python",
   "nbconvert_exporter": "python",
   "pygments_lexer": "ipython3",
   "version": "3.8.12"
  }
 },
 "nbformat": 4,
 "nbformat_minor": 5
}
