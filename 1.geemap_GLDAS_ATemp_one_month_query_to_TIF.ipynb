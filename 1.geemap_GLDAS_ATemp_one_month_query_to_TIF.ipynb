{
 "cells": [
  {
   "cell_type": "markdown",
   "id": "1e5d6337",
   "metadata": {},
   "source": [
    "# AIR TEMPERATURE FROM GLDAS-2.1: Global Land Data Assimilation System"
   ]
  },
  {
   "cell_type": "markdown",
   "id": "793c104d",
   "metadata": {},
   "source": [
    "https://developers.google.com/earth-engine/datasets/catalog/NASA_GLDAS_V021_NOAH_G025_T3H"
   ]
  },
  {
   "cell_type": "markdown",
   "id": "0999f6ff",
   "metadata": {},
   "source": [
    "## PART I: QUERY DATA FROM GEE SERVER"
   ]
  },
  {
   "cell_type": "code",
   "execution_count": 1,
   "id": "e3edde51",
   "metadata": {},
   "outputs": [],
   "source": [
    "#installing dependencies\n",
    "import shapefile_library\n",
    "import ee\n",
    "import geemap\n",
    "import os\n",
    "import numpy as np\n",
    "import matplotlib.pyplot as plt"
   ]
  },
  {
   "cell_type": "code",
   "execution_count": 2,
   "id": "67696669",
   "metadata": {},
   "outputs": [
    {
     "name": "stdout",
     "output_type": "stream",
     "text": [
      "destination_folder: D:\\Users\\aster\\Desktop\\AT_GLDAS_V2\n"
     ]
    }
   ],
   "source": [
    "#user select raw data destination folder\n",
    "destination_folder = input('destination_folder: ')"
   ]
  },
  {
   "cell_type": "code",
   "execution_count": 3,
   "id": "d5d95d93",
   "metadata": {},
   "outputs": [],
   "source": [
    "#plot wold map\n",
    "Map = geemap.Map()"
   ]
  },
  {
   "cell_type": "code",
   "execution_count": 4,
   "id": "1eb6c7ad",
   "metadata": {},
   "outputs": [
    {
     "data": {
      "application/vnd.jupyter.widget-view+json": {
       "model_id": "ca8b92659b4144d4af50deb8e9cda5e8",
       "version_major": 2,
       "version_minor": 0
      },
      "text/plain": [
       "Map(center=[20, 0], controls=(WidgetControl(options=['position', 'transparent_bg'], widget=HBox(children=(Togg…"
      ]
     },
     "metadata": {},
     "output_type": "display_data"
    }
   ],
   "source": [
    "#upload shapefile of AOE\n",
    "list_shp = [shapefile_library.NSO_all]\n",
    "map_shapefile = geemap.shp_to_ee(list_shp[0])\n",
    "Map.addLayer(map_shapefile, {}, 'map_shapefile')\n",
    "Map"
   ]
  },
  {
   "cell_type": "markdown",
   "id": "4d8d0359",
   "metadata": {},
   "source": [
    "### Input DATE"
   ]
  },
  {
   "cell_type": "code",
   "execution_count": 5,
   "id": "6e4525bd",
   "metadata": {
    "scrolled": false
   },
   "outputs": [
    {
     "data": {
      "application/vnd.jupyter.widget-view+json": {
       "model_id": "ca8b92659b4144d4af50deb8e9cda5e8",
       "version_major": 2,
       "version_minor": 0
      },
      "text/plain": [
       "Map(center=[47, 106], controls=(WidgetControl(options=['position', 'transparent_bg'], widget=HBox(children=(To…"
      ]
     },
     "metadata": {},
     "output_type": "display_data"
    }
   ],
   "source": [
    "#user input start year \n",
    "#end year automatically set to most current data\n",
    "\n",
    "start_date = str('2021-05-01')\n",
    "end_date = str('2021-06-01')\n",
    "    \n",
    "dataset = ee.ImageCollection('NASA/GLDAS/V021/NOAH/G025/T3H')     .filterDate (start_date, end_date)     .map(lambda image: image.clip(map_shapefile)) \n",
    "Tair_f_inst = dataset.select('Tair_f_inst')    \n",
    "Tair_f_instVis = {\n",
    "    'min': 200,\n",
    "    'max': 330,\n",
    "    'palette': ['1303ff', '42fff6', 'f3ff40', 'ff5d0f']    }\n",
    "Map.setCenter(106, 47, 4)\n",
    "Map.addLayer(Tair_f_inst, Tair_f_instVis, 'Tair_f_inst')\n",
    "Map"
   ]
  },
  {
   "cell_type": "markdown",
   "id": "665e8eeb",
   "metadata": {},
   "source": [
    "### Monthly Mean"
   ]
  },
  {
   "cell_type": "code",
   "execution_count": 6,
   "id": "3a39cc71",
   "metadata": {
    "scrolled": false
   },
   "outputs": [
    {
     "data": {
      "application/vnd.jupyter.widget-view+json": {
       "model_id": "ca8b92659b4144d4af50deb8e9cda5e8",
       "version_major": 2,
       "version_minor": 0
      },
      "text/plain": [
       "Map(center=[47, 106], controls=(WidgetControl(options=['position', 'transparent_bg'], widget=HBox(children=(To…"
      ]
     },
     "metadata": {},
     "output_type": "display_data"
    }
   ],
   "source": [
    "monthlyTemp = Tair_f_inst.reduce(ee.Reducer.mean())\n",
    "Map.addLayer(monthlyTemp, Tair_f_instVis, 'monthlyTemp Mean')\n",
    "Map"
   ]
  },
  {
   "cell_type": "code",
   "execution_count": 7,
   "id": "fddbb68a",
   "metadata": {},
   "outputs": [
    {
     "data": {
      "text/plain": [
       "<ee.image.Image at 0x25d4a12b4c0>"
      ]
     },
     "execution_count": 7,
     "metadata": {},
     "output_type": "execute_result"
    }
   ],
   "source": [
    "monthlyTemp"
   ]
  },
  {
   "cell_type": "code",
   "execution_count": 8,
   "id": "1905b9f5",
   "metadata": {
    "scrolled": true
   },
   "outputs": [
    {
     "data": {
      "text/plain": [
       "{'type': 'Image',\n",
       " 'bands': [{'id': 'Tair_f_inst_mean',\n",
       "   'data_type': {'type': 'PixelType', 'precision': 'float'},\n",
       "   'crs': 'EPSG:4326',\n",
       "   'crs_transform': [1, 0, 0, 0, 1, 0]}]}"
      ]
     },
     "execution_count": 8,
     "metadata": {},
     "output_type": "execute_result"
    }
   ],
   "source": [
    "monthlyTemp.getInfo()"
   ]
  },
  {
   "cell_type": "markdown",
   "id": "1560581c",
   "metadata": {},
   "source": [
    "### to TIF"
   ]
  },
  {
   "cell_type": "code",
   "execution_count": 9,
   "id": "e0fde1d8",
   "metadata": {
    "scrolled": true
   },
   "outputs": [
    {
     "name": "stdout",
     "output_type": "stream",
     "text": [
      "Generating URL ...\n",
      "Downloading data from https://earthengine.googleapis.com/v1alpha/projects/earthengine-legacy/thumbnails/669cbccee76211935ac55ce274b42714-d96bed77c93d6b49d009490ab263550f:getPixels\n",
      "Please wait ...\n",
      "Data downloaded to D:\\Users\\aster\\Desktop\\AT_GLDAS_V2\\monthlyTemp_202105_geemap.tif\n"
     ]
    }
   ],
   "source": [
    "feature = map_shapefile\n",
    "roi = feature.geometry()\n",
    "out_dir = os.path.join(os.path.expanduser('~'), destination_folder)\n",
    "filename = os.path.join(out_dir, 'monthlyTemp_202105_geemap.tif')\n",
    "image = monthlyTemp\n",
    "geemap.ee_export_image(image, filename=filename, scale=1000, region=roi)"
   ]
  },
  {
   "cell_type": "markdown",
   "id": "51862ccd",
   "metadata": {},
   "source": [
    "### CONT. TO NOTEBOOK 2. TIF to CSV"
   ]
  }
 ],
 "metadata": {
  "kernelspec": {
   "display_name": "Python 3 (ipykernel)",
   "language": "python",
   "name": "python3"
  },
  "language_info": {
   "codemirror_mode": {
    "name": "ipython",
    "version": 3
   },
   "file_extension": ".py",
   "mimetype": "text/x-python",
   "name": "python",
   "nbconvert_exporter": "python",
   "pygments_lexer": "ipython3",
   "version": "3.8.12"
  }
 },
 "nbformat": 4,
 "nbformat_minor": 5
}
